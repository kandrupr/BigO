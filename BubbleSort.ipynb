{
 "cells": [
  {
   "cell_type": "code",
   "execution_count": 1,
   "metadata": {
    "collapsed": true
   },
   "outputs": [],
   "source": [
    "import matplotlib.pyplot as plt\n",
    "import random\n",
    "import time"
   ]
  },
  {
   "cell_type": "code",
   "execution_count": 2,
   "metadata": {
    "collapsed": false
   },
   "outputs": [],
   "source": [
    "inputs = [0,100, 200, 300, 400, 500, 600, 700, 800, 900, 1000]\n",
    "times = [0]\n",
    "data = [list(range(1, 101)), list(range(1, 201)), list(range(1, 301)), list(range(1, 401)), list(range(1, 501)), list(range(1, 601)), list(range(1, 701)), list(range(1, 801)), list(range(1, 901)), list(range(1, 1001))]"
   ]
  },
  {
   "cell_type": "code",
   "execution_count": 3,
   "metadata": {
    "collapsed": false
   },
   "outputs": [],
   "source": [
    "for i in range(0, len(data)):\n",
    "    data[i] = random.sample(data[i], len(data[i]))"
   ]
  },
  {
   "cell_type": "code",
   "execution_count": 4,
   "metadata": {
    "collapsed": false
   },
   "outputs": [],
   "source": [
    "def bubble_sort(data):  \n",
    "    for i in range(0, len(data)-1):\n",
    "        for j in range(0, len(data)-1): \n",
    "            if(data[j] > data[j+1]):\n",
    "                tmp = data[j]\n",
    "                data[j] = data[j+1]\n",
    "                data[j+1] = tmp\n",
    "    data"
   ]
  },
  {
   "cell_type": "code",
   "execution_count": 5,
   "metadata": {
    "collapsed": false
   },
   "outputs": [
    {
     "name": "stdout",
     "output_type": "stream",
     "text": [
      "--- 2.36 milliseconds ---\n",
      "--- 8.36 milliseconds ---\n",
      "--- 16.75 milliseconds ---\n",
      "--- 51.3 milliseconds ---\n",
      "--- 79.75 milliseconds ---\n",
      "--- 106.35 milliseconds ---\n",
      "--- 143.69 milliseconds ---\n",
      "--- 205.71 milliseconds ---\n",
      "--- 243.2 milliseconds ---\n",
      "--- 300.88 milliseconds ---\n"
     ]
    }
   ],
   "source": [
    "for i in data:\n",
    "    start_time = time.time()\n",
    "    bubble_sort(i)\n",
    "    runtime = ((time.time() - start_time) * 1000)\n",
    "    print(\"--- %s milliseconds ---\" % round(runtime,2))\n",
    "    times.append(runtime)"
   ]
  },
  {
   "cell_type": "code",
   "execution_count": 6,
   "metadata": {
    "collapsed": true
   },
   "outputs": [],
   "source": [
    "#plt.scatter(inputs,times)\n",
    "#plt.plot(inputs,times)\n",
    "#plt.show()"
   ]
  }
 ],
 "metadata": {
  "anaconda-cloud": {},
  "kernelspec": {
   "display_name": "Python [conda env:snakes]",
   "language": "python",
   "name": "conda-env-snakes-py"
  },
  "language_info": {
   "codemirror_mode": {
    "name": "ipython",
    "version": 3
   },
   "file_extension": ".py",
   "mimetype": "text/x-python",
   "name": "python",
   "nbconvert_exporter": "python",
   "pygments_lexer": "ipython3",
   "version": "3.6.0"
  }
 },
 "nbformat": 4,
 "nbformat_minor": 1
}
