{
 "cells": [
  {
   "cell_type": "code",
   "execution_count": 1,
   "metadata": {
    "collapsed": true
   },
   "outputs": [],
   "source": [
    "import matplotlib.pyplot as plt\n",
    "import random\n",
    "import time"
   ]
  },
  {
   "cell_type": "code",
   "execution_count": 2,
   "metadata": {
    "collapsed": false
   },
   "outputs": [],
   "source": [
    "inputs = [0, 100, 200, 300, 400, 500, 600, 700, 800, 900, 1000]\n",
    "times = [0]\n",
    "data = [list(range(1, 101)), list(range(1, 201)), list(range(1, 301)), list(range(1, 401)), list(range(1, 501)), list(range(1, 601)), list(range(1, 701)), list(range(1, 801)), list(range(1, 901)), list(range(1, 1001))]"
   ]
  },
  {
   "cell_type": "code",
   "execution_count": 3,
   "metadata": {
    "collapsed": false
   },
   "outputs": [],
   "source": [
    "for i in range(0, len(data)):\n",
    "    data[i] = random.sample(data[i], len(data[i]))"
   ]
  },
  {
   "cell_type": "code",
   "execution_count": 4,
   "metadata": {
    "collapsed": false
   },
   "outputs": [],
   "source": [
    "def bubble_sort(data): \n",
    "    length = len(data) - 1\n",
    "    for i in range(0, length):\n",
    "        for j in range(0, length): \n",
    "            if(data[j] > data[j+1]):\n",
    "                tmp = data[j]\n",
    "                data[j] = data[j+1]\n",
    "                data[j+1] = tmp\n",
    "        length = length - 1\n",
    "    data"
   ]
  },
  {
   "cell_type": "code",
   "execution_count": 5,
   "metadata": {
    "collapsed": false
   },
   "outputs": [
    {
     "name": "stdout",
     "output_type": "stream",
     "text": [
      "--- 0.0 milliseconds ---\n",
      "--- 15.62 milliseconds ---\n",
      "--- 0.0 milliseconds ---\n",
      "--- 22.14 milliseconds ---\n",
      "--- 15.63 milliseconds ---\n",
      "--- 31.24 milliseconds ---\n",
      "--- 53.41 milliseconds ---\n",
      "--- 62.45 milliseconds ---\n",
      "--- 84.62 milliseconds ---\n",
      "--- 100.24 milliseconds ---\n"
     ]
    }
   ],
   "source": [
    "for i in data:\n",
    "    start_time = time.time()\n",
    "    bubble_sort(i)\n",
    "    runtime = ((time.time() - start_time) * 1000)\n",
    "    print(\"--- %s milliseconds ---\" % round(runtime,2))\n",
    "    times.append(runtime)"
   ]
  },
  {
   "cell_type": "markdown",
   "metadata": {},
   "source": [
    "__Actual runtime vs O(n^2)__\n"
   ]
  },
  {
   "cell_type": "code",
   "execution_count": 6,
   "metadata": {
    "collapsed": false
   },
   "outputs": [
    {
     "data": {
      "image/png": "[encoded data removed]",
      "text/plain": [
       "<matplotlib.figure.Figure at 0x1f51127c780>"
      ]
     },
     "metadata": {},
     "output_type": "display_data"
    },
    {
     "data": {
      "image/png": "[encoded data removed]",
      "text/plain": [
       "<matplotlib.figure.Figure at 0x1f511277f98>"
      ]
     },
     "metadata": {},
     "output_type": "display_data"
    }
   ],
   "source": [
    "x = [0, 10, 20, 30, 40, 50, 60, 70, 80, 90, 100]\n",
    "y = [0, 100, 400, 900, 1600, 2500, 3600, 4900, 6400, 8100, 10000]\n",
    "\n",
    "plt.scatter(inputs,times)\n",
    "plt.plot(inputs,times)\n",
    "plt.show()\n",
    "plt.scatter(x,y)\n",
    "plt.plot(x,y)\n",
    "plt.show()"
   ]
  }
 ],
 "metadata": {
  "anaconda-cloud": {},
  "kernelspec": {
   "display_name": "Python [conda env:snakes]",
   "language": "python",
   "name": "conda-env-snakes-py"
  },
  "language_info": {
   "codemirror_mode": {
    "name": "ipython",
    "version": 3
   },
   "file_extension": ".py",
   "mimetype": "text/x-python",
   "name": "python",
   "nbconvert_exporter": "python",
   "pygments_lexer": "ipython3",
   "version": "3.6.0"
  }
 },
 "nbformat": 4,
 "nbformat_minor": 1
}
