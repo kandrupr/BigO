{
 "cells": [
  {
   "cell_type": "code",
   "execution_count": 1,
   "metadata": {
    "collapsed": true
   },
   "outputs": [],
   "source": [
    "import matplotlib.pyplot as plt\n",
    "import random\n",
    "import time"
   ]
  },
  {
   "cell_type": "code",
   "execution_count": 2,
   "metadata": {
    "collapsed": false
   },
   "outputs": [],
   "source": [
    "inputs = [0, 100, 200, 300, 400, 500, 600, 700, 800, 900, 1000]\n",
    "times = [0]\n",
    "data = [list(range(1, 101)), list(range(1, 201)), list(range(1, 301)), list(range(1, 401)), list(range(1, 501)), list(range(1, 601)), list(range(1, 701)), list(range(1, 801)), list(range(1, 901)), list(range(1, 1001))]"
   ]
  },
  {
   "cell_type": "code",
   "execution_count": 3,
   "metadata": {
    "collapsed": false
   },
   "outputs": [],
   "source": [
    "for i in range(0, len(data)):\n",
    "    data[i] = random.sample(data[i], len(data[i]))"
   ]
  },
  {
   "cell_type": "code",
   "execution_count": 4,
   "metadata": {
    "collapsed": false
   },
   "outputs": [],
   "source": [
    "def selection_sort(data): \n",
    "    length = len(data) - 1\n",
    "    for i in range(0, length):\n",
    "        minimum = i\n",
    "        for j in range(i, length): \n",
    "            if(data[minimum] > data[j+1]):\n",
    "                minimum = j + 1\n",
    "        tmp = data[i]\n",
    "        data[i] = data[minimum]\n",
    "        data[minimum] = tmp\n",
    "    data"
   ]
  },
  {
   "cell_type": "code",
   "execution_count": 5,
   "metadata": {
    "collapsed": false,
    "scrolled": true
   },
   "outputs": [
    {
     "name": "stdout",
     "output_type": "stream",
     "text": [
      "--- 0.99 milliseconds ---\n",
      "--- 5.82 milliseconds ---\n",
      "--- 6.55 milliseconds ---\n",
      "--- 13.57 milliseconds ---\n",
      "--- 30.33 milliseconds ---\n",
      "--- 35.18 milliseconds ---\n",
      "--- 50.04 milliseconds ---\n",
      "--- 70.46 milliseconds ---\n",
      "--- 88.44 milliseconds ---\n",
      "--- 112.04 milliseconds ---\n"
     ]
    }
   ],
   "source": [
    "for i in data:\n",
    "    start_time = time.time()\n",
    "    selection_sort(i)\n",
    "    runtime = ((time.time() - start_time) * 1000)\n",
    "    print(\"--- %s milliseconds ---\" % round(runtime,2))\n",
    "    times.append(runtime)"
   ]
  },
  {
   "cell_type": "markdown",
   "metadata": {},
   "source": [
    "__Actual runtime vs Average runtime - O(n^2)__\n"
   ]
  },
  {
   "cell_type": "code",
   "execution_count": 6,
   "metadata": {
    "collapsed": false
   },
   "outputs": [
    {
     "data": {
      "image/png": "[encoded data removed]",
      "text/plain": [
       "<matplotlib.figure.Figure at 0x22718ec8828>"
      ]
     },
     "metadata": {},
     "output_type": "display_data"
    },
    {
     "data": {
      "image/png": "[encoded data removed]",
      "text/plain": [
       "<matplotlib.figure.Figure at 0x2271901ec18>"
      ]
     },
     "metadata": {},
     "output_type": "display_data"
    }
   ],
   "source": [
    "x = [0, 10, 20, 30, 40, 50, 60, 70, 80, 90, 100]\n",
    "y = [0, 100, 400, 900, 1600, 2500, 3600, 4900, 6400, 8100, 10000]\n",
    "\n",
    "plt.scatter(inputs,times)\n",
    "plt.plot(inputs,times)\n",
    "plt.show()\n",
    "plt.scatter(x,y)\n",
    "plt.plot(x,y)\n",
    "plt.show()"
   ]
  }
 ],
 "metadata": {
  "anaconda-cloud": {},
  "kernelspec": {
   "display_name": "Python [conda env:snakes]",
   "language": "python",
   "name": "conda-env-snakes-py"
  },
  "language_info": {
   "codemirror_mode": {
    "name": "ipython",
    "version": 3
   },
   "file_extension": ".py",
   "mimetype": "text/x-python",
   "name": "python",
   "nbconvert_exporter": "python",
   "pygments_lexer": "ipython3",
   "version": "3.6.0"
  }
 },
 "nbformat": 4,
 "nbformat_minor": 1
}
