{
 "cells": [
  {
   "cell_type": "markdown",
   "metadata": {},
   "source": [
    "__Implementation of a Linked List__"
   ]
  },
  {
   "cell_type": "code",
   "execution_count": 1,
   "metadata": {
    "collapsed": false
   },
   "outputs": [],
   "source": [
    "class LinkedList:\n",
    "    def __init__(self):\n",
    "        self.__head = None\n",
    "        self.__tail = None\n",
    "    \n",
    "    def addNode(self, node):\n",
    "        if(self.__head == None):\n",
    "            self.__head = node\n",
    "        else:\n",
    "            self.__tail.setNextNode(node)\n",
    "        self.__tail = node\n",
    "    \n",
    "    def showList(self):\n",
    "        if(self.__isEmpty()):\n",
    "            print(\"Empty List\")\n",
    "        else:\n",
    "            print(self.__head.printNode())\n",
    "            \n",
    "    def __isEmpty(self):\n",
    "        return True if self.__head == None else False \n",
    "    \n",
    "    def search(self, value):\n",
    "        if(self.__isEmpty()):\n",
    "            print(\"Empty List\")\n",
    "        else:\n",
    "            self.__head.search(value)\n",
    "    \n",
    "    def __newHead(self, value):        \n",
    "        if(self.__head == None):\n",
    "            self.__tail = None\n",
    "        elif(self.__head.getValue() == value):\n",
    "            self.__head = self.__head.getNextNode()\n",
    "            self.__newHead(value)\n",
    "            \n",
    "    def delete(self, value):\n",
    "        self.__newHead(value)\n",
    "        if(self.__head != None):\n",
    "            self.__tail = self.__head.delete(self.__tail, value)"
   ]
  },
  {
   "cell_type": "code",
   "execution_count": 2,
   "metadata": {
    "collapsed": false
   },
   "outputs": [],
   "source": [
    "class Node: \n",
    "    def __init__(self, value):\n",
    "        self.__value = value\n",
    "        self.__nextNode = None\n",
    "    \n",
    "    def setNextNode(self, node):\n",
    "        self.__nextNode = node\n",
    "        \n",
    "    def getNextNode(self):\n",
    "        return self.__nextNode\n",
    "    \n",
    "    def getValue(self):\n",
    "        return self.__value\n",
    "    \n",
    "    def printNode(self):\n",
    "        if(self.__nextNode == None):\n",
    "            return str(self.__value)\n",
    "        else:\n",
    "            return str(self.__value) + \"->\" + self.__nextNode.printNode()\n",
    "    \n",
    "    def search(self, value):\n",
    "        if(self.__value == value):\n",
    "            print(str(value) + \" in list\")\n",
    "        elif(self.__nextNode == None):\n",
    "            print(\"Value not in list\")\n",
    "        else:\n",
    "            self.__nextNode.search(value)\n",
    "            \n",
    "    def __nextAvailNode(self, value):\n",
    "        self.__nextNode = self.__nextNode.getNextNode()\n",
    "        if(self.__nextNode != None):    \n",
    "            if(self.__nextNode.getValue() == value):\n",
    "                self.__nextAvailNode(value)\n",
    "\n",
    "        \n",
    "    def delete(self, tail, value):\n",
    "        if(self.__nextNode != None):\n",
    "            if(self.__nextNode.getValue() == value):\n",
    "                self.__nextAvailNode(value)\n",
    "            if(self.__nextNode == None):\n",
    "                return self\n",
    "            else:\n",
    "                return self.__nextNode.delete(tail, value)      \n",
    "        else:\n",
    "            return tail"
   ]
  },
  {
   "cell_type": "code",
   "execution_count": 3,
   "metadata": {
    "collapsed": false
   },
   "outputs": [],
   "source": [
    "linkedList = LinkedList()"
   ]
  },
  {
   "cell_type": "code",
   "execution_count": 4,
   "metadata": {
    "collapsed": false
   },
   "outputs": [],
   "source": [
    "linkedList.addNode(Node(5))\n",
    "linkedList.addNode(Node(9))\n",
    "linkedList.addNode(Node(5))\n",
    "linkedList.addNode(Node(8))\n",
    "linkedList.addNode(Node(5))\n",
    "linkedList.addNode(Node(7))"
   ]
  },
  {
   "cell_type": "code",
   "execution_count": 5,
   "metadata": {
    "collapsed": false
   },
   "outputs": [
    {
     "name": "stdout",
     "output_type": "stream",
     "text": [
      "9->8->7\n"
     ]
    }
   ],
   "source": [
    "linkedList.delete(5)\n",
    "linkedList.showList()"
   ]
  },
  {
   "cell_type": "code",
   "execution_count": 6,
   "metadata": {
    "collapsed": false
   },
   "outputs": [
    {
     "name": "stdout",
     "output_type": "stream",
     "text": [
      "8->7\n",
      "8\n",
      "Empty List\n",
      "9\n"
     ]
    }
   ],
   "source": [
    "linkedList.delete(9)\n",
    "linkedList.showList()\n",
    "linkedList.delete(7)\n",
    "linkedList.showList()\n",
    "linkedList.delete(8)\n",
    "linkedList.showList()\n",
    "linkedList.addNode(Node(9))\n",
    "linkedList.showList()"
   ]
  },
  {
   "cell_type": "code",
   "execution_count": 7,
   "metadata": {
    "collapsed": false
   },
   "outputs": [
    {
     "name": "stdout",
     "output_type": "stream",
     "text": [
      "9->20->4->7\n",
      "20 in list\n",
      "Value not in list\n"
     ]
    }
   ],
   "source": [
    "linkedList.addNode(Node(20))\n",
    "linkedList.addNode(Node(4))\n",
    "linkedList.addNode(Node(7))\n",
    "linkedList.showList()\n",
    "linkedList.search(20)\n",
    "linkedList.search(40)"
   ]
  }
 ],
 "metadata": {
  "anaconda-cloud": {},
  "kernelspec": {
   "display_name": "Python [conda env:snakes]",
   "language": "python",
   "name": "conda-env-snakes-py"
  },
  "language_info": {
   "codemirror_mode": {
    "name": "ipython",
    "version": 3
   },
   "file_extension": ".py",
   "mimetype": "text/x-python",
   "name": "python",
   "nbconvert_exporter": "python",
   "pygments_lexer": "ipython3",
   "version": "3.6.0"
  }
 },
 "nbformat": 4,
 "nbformat_minor": 1
}
